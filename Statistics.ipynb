{
 "cells": [
  {
   "cell_type": "markdown",
   "metadata": {},
   "source": [
    "# 統計基本量"
   ]
  },
  {
   "cell_type": "code",
   "execution_count": 1,
   "metadata": {},
   "outputs": [],
   "source": [
    "import numpy as np"
   ]
  },
  {
   "cell_type": "code",
   "execution_count": 2,
   "metadata": {},
   "outputs": [
    {
     "name": "stdout",
     "output_type": "stream",
     "text": [
      "ArrayCalculation.ipynb          Random.ipynb\r\n",
      "BasicofNumpy.ipynb              SparseMatrix.ipynb\r\n",
      "LinearAlgebra.ipynb             Statistics.ipynb\r\n",
      "MathematicalOptimization.ipynb  VisualizeData.ipynb\r\n",
      "NumericalCalculation.ipynb      data.csv\r\n",
      "README.md\r\n"
     ]
    }
   ],
   "source": [
    "ls"
   ]
  },
  {
   "cell_type": "code",
   "execution_count": 36,
   "metadata": {},
   "outputs": [
    {
     "name": "stdout",
     "output_type": "stream",
     "text": [
      "2018/4/1 21.9\n",
      "2018/4/2 24.5\n",
      "2018/4/3 23.4\n",
      "2018/4/4 26.2\n",
      "2018/4/5 15.3\n",
      "2018/4/6 22.4\n",
      "2018/4/7 21.8\n",
      "2018/4/8 16.8\n",
      "2018/4/9 19.9\n",
      "2018/4/10 19.1\n",
      "2018/4/11 21.9\n",
      "2018/4/12 25.9\n",
      "2018/4/13 20.9\n",
      "2018/4/14 18.8\n",
      "2018/4/15 22.1\n",
      "2018/4/16 20.0\n",
      "2018/4/17 15.0\n",
      "2018/4/18 16.0\n",
      "2018/4/19 22.2\n",
      "2018/4/20 26.4\n",
      "2018/4/21 26.0\n",
      "2018/4/22 28.3\n",
      "2018/4/23 18.7\n",
      "2018/4/24 21.3\n",
      "2018/4/25 22.5\n",
      "2018/4/26 25.0\n",
      "2018/4/27 22.0\n",
      "2018/4/28 26.1\n",
      "2018/4/29 25.6\n",
      "2018/4/30 25.7\n",
      "[21.9 24.5 23.4 26.2 15.3 22.4 21.8 16.8 19.9 19.1 21.9 25.9 20.9 18.8\n",
      " 22.1 20.  15.  16.  22.2 26.4 26.  28.3 18.7 21.3 22.5 25.  22.  26.1\n",
      " 25.6 25.7] <class 'numpy.ndarray'>\n"
     ]
    }
   ],
   "source": [
    "data = np.array([])\n",
    "with open(\"data.csv\", encoding='shift_jis') as file:\n",
    "    lines = file.readlines()\n",
    "    for line in lines:\n",
    "        items = line.split(\",\")\n",
    "        if(len(items)>1 and '/' in line.split(\",\")[0] ):\n",
    "            print(line.split(\",\")[0], line.split(\",\")[1])\n",
    "            data = np.append(data, float(line.split(\",\")[1]))\n",
    "print(data, type(data))"
   ]
  },
  {
   "cell_type": "code",
   "execution_count": 21,
   "metadata": {},
   "outputs": [],
   "source": [
    "mean = data.sum() / len(data)\n",
    "sigma = np.sqrt(((data - mean)**2).sum() / len(data))"
   ]
  },
  {
   "cell_type": "code",
   "execution_count": 25,
   "metadata": {},
   "outputs": [
    {
     "name": "stdout",
     "output_type": "stream",
     "text": [
      "mean:22.05666667\n",
      "sigma:3.49081493\n"
     ]
    }
   ],
   "source": [
    "print(\"mean:{:.8f}\".format(mean))\n",
    "print(\"sigma:{:.8f}\".format(sigma))"
   ]
  },
  {
   "cell_type": "code",
   "execution_count": 28,
   "metadata": {},
   "outputs": [
    {
     "name": "stdout",
     "output_type": "stream",
     "text": [
      "22.05666666666667\n",
      "3.490814931916169\n"
     ]
    }
   ],
   "source": [
    "print(data.mean())\n",
    "print(data.std())"
   ]
  },
  {
   "cell_type": "code",
   "execution_count": 56,
   "metadata": {},
   "outputs": [
    {
     "name": "stdout",
     "output_type": "stream",
     "text": [
      "2018/4/1 8.3\n",
      "2018/4/2 13.0\n",
      "2018/4/3 8.4\n",
      "2018/4/4 7.9\n",
      "2018/4/5 7.0\n",
      "2018/4/6 3.7\n",
      "2018/4/7 6.1\n",
      "2018/4/8 8.5\n",
      "2018/4/9 8.6\n",
      "2018/4/10 11.9\n",
      "2018/4/11 12.1\n",
      "2018/4/12 14.4\n",
      "2018/4/13 7.0\n",
      "2018/4/14 10.5\n",
      "2018/4/15 6.6\n",
      "2018/4/16 10.6\n",
      "2018/4/17 16.6\n",
      "2018/4/18 19.1\n",
      "2018/4/19 20.1\n",
      "2018/4/20 19.8\n",
      "2018/4/21 24.5\n",
      "2018/4/22 12.6\n",
      "2018/4/23 16.4\n",
      "2018/4/24 13.0\n",
      "2018/4/25 13.3\n",
      "2018/4/26 14.1\n",
      "2018/4/27 14.4\n",
      "2018/4/28 17.0\n",
      "2018/4/29 21.3\n",
      "2018/4/30 24.5\n",
      "[ 8.3 13.   8.4  7.9  7.   3.7  6.1  8.5  8.6 11.9 12.1 14.4  7.  10.5\n",
      "  6.6 10.6 16.6 19.1 20.1 19.8 24.5 12.6 16.4 13.  13.3 14.1 14.4 17.\n",
      " 21.3 24.5] <class 'numpy.ndarray'>\n"
     ]
    }
   ],
   "source": [
    "data2 = np.array([])\n",
    "with open(\"data2.csv\") as file:\n",
    "    lines = file.readlines()\n",
    "    for index, line in enumerate(lines):\n",
    "        items = line.split(\",\")\n",
    "        if index==0:\n",
    "            continue\n",
    "        if(len(items)==4 and '/' in line.split(\",\")[0] ):\n",
    "            print(line.split(\",\")[0], line.split(\",\")[1])\n",
    "            data2 = np.append(data2, float(line.split(\",\")[1]))\n",
    "print(data2, type(data2))"
   ]
  },
  {
   "cell_type": "code",
   "execution_count": 61,
   "metadata": {},
   "outputs": [],
   "source": [
    "mean_y = data2.mean()\n",
    "sigma_y =data2.std()"
   ]
  },
  {
   "cell_type": "code",
   "execution_count": 67,
   "metadata": {},
   "outputs": [
    {
     "name": "stdout",
     "output_type": "stream",
     "text": [
      "共分散： 5.487211111111111\n",
      "相関係数: 0.2897289700420625\n"
     ]
    }
   ],
   "source": [
    "sxy = ((data - mean)*(data2-mean_y)).sum() /len(data)\n",
    "print(\"共分散：\", sxy)\n",
    "print(\"相関係数:\", sxy / (sigma * sigma_y))"
   ]
  },
  {
   "cell_type": "markdown",
   "metadata": {},
   "source": [
    "# 正規分布と確率密度関数"
   ]
  },
  {
   "cell_type": "code",
   "execution_count": 68,
   "metadata": {},
   "outputs": [],
   "source": [
    "import matplotlib.pyplot as plt\n",
    "from scipy.stats import norm"
   ]
  },
  {
   "cell_type": "code",
   "execution_count": 71,
   "metadata": {},
   "outputs": [
    {
     "data": {
      "text/plain": [
       "[<matplotlib.lines.Line2D at 0x116daed90>]"
      ]
     },
     "execution_count": 71,
     "metadata": {},
     "output_type": "execute_result"
    },
    {
     "data": {
      "image/png": "[encoded data removed]",
      "text/plain": [
       "<Figure size 432x288 with 1 Axes>"
      ]
     },
     "metadata": {
      "needs_background": "light"
     },
     "output_type": "display_data"
    }
   ],
   "source": [
    "x = np.linspace(-5, 5)\n",
    "y= norm.pdf(x)\n",
    "plt.plot(x,y)"
   ]
  },
  {
   "cell_type": "markdown",
   "metadata": {},
   "source": [
    "$\\mu$と $\\sigma$の値を指定"
   ]
  },
  {
   "cell_type": "code",
   "execution_count": 72,
   "metadata": {},
   "outputs": [],
   "source": [
    "y = norm.pdf(x, loc=1, scale=2)"
   ]
  },
  {
   "cell_type": "code",
   "execution_count": 74,
   "metadata": {},
   "outputs": [
    {
     "data": {
      "text/plain": [
       "[<matplotlib.lines.Line2D at 0x116f48e90>]"
      ]
     },
     "execution_count": 74,
     "metadata": {},
     "output_type": "execute_result"
    },
    {
     "data": {
      "image/png": "[encoded data removed]",
      "text/plain": [
       "<Figure size 432x288 with 1 Axes>"
      ]
     },
     "metadata": {
      "needs_background": "light"
     },
     "output_type": "display_data"
    }
   ],
   "source": [
    "plt.plot(x,y)"
   ]
  },
  {
   "cell_type": "markdown",
   "metadata": {},
   "source": [
    "正規分布に従う確率変数$X$がある範囲[a, b] に入る確率$P(a\\leq X \\leq b)$を計算\n",
    "累積分布関数は正規分布だけでなく一般の確率密度関数fに対して以下のように定義できる。\n",
    "$$\n",
    "    F(x) = \\int_{-\\infty}^{x} f(t)dt\n",
    "$$\n",
    "確率分布がfに従う確率変数$X$とすると\n",
    "$$\n",
    "    F(x) = P(X\\leq x)\n",
    "$$\n",
    "となる。\n",
    "正規分布に従う確率変数$X$がある範囲[a, b] に入る確率$P(a\\leq X \\leq b)$は\n",
    "$$\n",
    "    \\begin{array}\n",
    "    P(a\\leq X \\leq b) &= \\int_a^b f(x)dx \\\\\n",
    "    &= \\int_{-\\infty}^b f(x)dx - \\int_{-\\infty}^a f(x)dx \\\\\n",
    "    &= F(b) - F(a)\n",
    "    \\end{array}\n",
    "$$"
   ]
  },
  {
   "cell_type": "code",
   "execution_count": 75,
   "metadata": {},
   "outputs": [],
   "source": [
    "from scipy.stats import norm"
   ]
  },
  {
   "cell_type": "code",
   "execution_count": 77,
   "metadata": {},
   "outputs": [
    {
     "data": {
      "text/plain": [
       "0.6826894921370859"
      ]
     },
     "execution_count": 77,
     "metadata": {},
     "output_type": "execute_result"
    }
   ],
   "source": [
    "norm.cdf(1) - norm.cdf(-1)"
   ]
  },
  {
   "cell_type": "code",
   "execution_count": 78,
   "metadata": {},
   "outputs": [],
   "source": [
    "def cointoss(n, m):\n",
    "    l = []\n",
    "    for _ in range(m):\n",
    "        r = np.random.randint(2, size=n)\n",
    "        l.append(r.sum())\n",
    "    return l"
   ]
  },
  {
   "cell_type": "code",
   "execution_count": 81,
   "metadata": {},
   "outputs": [
    {
     "data": {
      "text/plain": [
       "(array([2.5000e+01, 6.2000e+01, 1.0400e+02, 1.8100e+02, 2.6200e+02,\n",
       "        4.6800e+02, 8.4600e+02, 1.1770e+03, 1.8990e+03, 2.8920e+03,\n",
       "        4.2530e+03, 6.0960e+03, 8.4180e+03, 1.1736e+04, 1.5214e+04,\n",
       "        2.0136e+04, 2.5054e+04, 3.0817e+04, 3.6830e+04, 4.3149e+04,\n",
       "        4.8810e+04, 5.4168e+04, 5.8673e+04, 6.2014e+04, 6.3448e+04,\n",
       "        6.4000e+04, 6.1931e+04, 5.8696e+04, 5.4425e+04, 4.9232e+04,\n",
       "        4.3784e+04, 3.7302e+04, 3.1669e+04, 2.5877e+04, 2.0436e+04,\n",
       "        1.5866e+04, 1.1979e+04, 8.8530e+03, 6.3930e+03, 4.3760e+03,\n",
       "        3.0220e+03, 2.0510e+03, 1.3400e+03, 7.9900e+02, 5.1400e+02,\n",
       "        2.8800e+02, 1.9200e+02, 9.2000e+01, 5.5000e+01, 3.8000e+01]),\n",
       " array([4800., 4808., 4816., 4824., 4832., 4840., 4848., 4856., 4864.,\n",
       "        4872., 4880., 4888., 4896., 4904., 4912., 4920., 4928., 4936.,\n",
       "        4944., 4952., 4960., 4968., 4976., 4984., 4992., 5000., 5008.,\n",
       "        5016., 5024., 5032., 5040., 5048., 5056., 5064., 5072., 5080.,\n",
       "        5088., 5096., 5104., 5112., 5120., 5128., 5136., 5144., 5152.,\n",
       "        5160., 5168., 5176., 5184., 5192., 5200.]),\n",
       " <a list of 50 Patch objects>)"
      ]
     },
     "execution_count": 81,
     "metadata": {},
     "output_type": "execute_result"
    },
    {
     "data": {
      "image/png": "[encoded data removed]",
      "text/plain": [
       "<Figure size 432x288 with 2 Axes>"
      ]
     },
     "metadata": {
      "needs_background": "light"
     },
     "output_type": "display_data"
    }
   ],
   "source": [
    "np.random.seed(0)\n",
    "fig, axes = plt.subplots(1, 2)\n",
    "l = cointoss(100, 1000000)\n",
    "axes[0].hist(l, range=(30, 70), bins=50, color=\"k\")\n",
    "l = cointoss(10000, 1000000)\n",
    "axes[1].hist(l, range=(4800, 5200), bins=50, color=\"k\")"
   ]
  },
  {
   "cell_type": "markdown",
   "metadata": {},
   "source": [
    "確率変数についての平均と分散\n",
    "確率変数$X$について、平均(期待値)は$E(X)$で表される\n",
    "Xが離散型の場合\n",
    "$$\n",
    "    E(X) = \\sum_{i=1}^{n} a_i P(X=a_i)\n",
    "$$\n",
    "Xが連続型の場合\n",
    "$$\n",
    "    E(X) = \\int_{-\\infty}^{\\infty} x P(X=x)dx\n",
    "$$"
   ]
  }
 ],
 "metadata": {
  "kernelspec": {
   "display_name": "Python 3",
   "language": "python",
   "name": "python3"
  },
  "language_info": {
   "codemirror_mode": {
    "name": "ipython",
    "version": 3
   },
   "file_extension": ".py",
   "mimetype": "text/x-python",
   "name": "python",
   "nbconvert_exporter": "python",
   "pygments_lexer": "ipython3",
   "version": "3.7.7"
  }
 },
 "nbformat": 4,
 "nbformat_minor": 4
}
